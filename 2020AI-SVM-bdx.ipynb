{
 "cells": [
  {
   "cell_type": "code",
   "execution_count": 1,
   "metadata": {},
   "outputs": [
    {
     "data": {
      "text/plain": [
       "'\\n@author: Bai Dongxin\\nCreated on 5.29\\n'"
      ]
     },
     "execution_count": 1,
     "metadata": {},
     "output_type": "execute_result"
    }
   ],
   "source": [
    "\"\"\"\n",
    "@author: Bai Dongxin\n",
    "Created on 5.29\n",
    "\"\"\""
   ]
  },
  {
   "cell_type": "code",
   "execution_count": 2,
   "metadata": {},
   "outputs": [],
   "source": [
    "# 导入库文件\n",
    "from sklearn import svm\n",
    "from sklearn.metrics import accuracy_score\n",
    "from sklearn.model_selection import GridSearchCV\n"
   ]
  },
  {
   "cell_type": "code",
   "execution_count": 3,
   "metadata": {},
   "outputs": [
    {
     "name": "stdout",
     "output_type": "stream",
     "text": [
      "cancer.keys():dict_keys(['data', 'target', 'frame', 'target_names', 'DESCR', 'feature_names', 'filename', 'data_module'])\n",
      "cancer数据的形状:(569, 30)\n",
      "cancer数据:\n",
      "['mean radius' 'mean texture' 'mean perimeter' 'mean area'\n",
      " 'mean smoothness' 'mean compactness' 'mean concavity'\n",
      " 'mean concave points' 'mean symmetry' 'mean fractal dimension'\n",
      " 'radius error' 'texture error' 'perimeter error' 'area error'\n",
      " 'smoothness error' 'compactness error' 'concavity error'\n",
      " 'concave points error' 'symmetry error' 'fractal dimension error'\n",
      " 'worst radius' 'worst texture' 'worst perimeter' 'worst area'\n",
      " 'worst smoothness' 'worst compactness' 'worst concavity'\n",
      " 'worst concave points' 'worst symmetry' 'worst fractal dimension']\n"
     ]
    }
   ],
   "source": [
    "# 导入数据集\n",
    "from sklearn.datasets import load_breast_cancer\n",
    "cancer=load_breast_cancer() \n",
    "print(\"cancer.keys():{}\".format(cancer.keys())) #查看cancer数据的keys\n",
    "print(\"cancer数据的形状:{}\".format(cancer.data.shape)) #查看数据集形状\n",
    "print(\"cancer数据:\\n{}\".format(cancer.feature_names)) # 查看标签名"
   ]
  },
  {
   "cell_type": "code",
   "execution_count": 4,
   "metadata": {},
   "outputs": [],
   "source": [
    "# 数据预处理\n",
    "from sklearn.model_selection import train_test_split\n",
    "from sklearn.preprocessing import MinMaxScaler #导入缩放器类\n",
    "X_train,X_test,y_train,y_test=train_test_split(cancer.data,cancer.target,random_state=0)\n",
    "# 归一化\n",
    "scaler=MinMaxScaler() #创建0-1缩放器\n",
    "scaler.fit(X_train) #拟合数据，即计算特征的最大值和最小值\n",
    "X_train_scaled=scaler.transform(X_train) #将X_train缩放到[0,1]内\n",
    "X_test_scaled=scaler.transform(X_test) #将X_test缩放到[0,1]内\n"
   ]
  },
  {
   "cell_type": "code",
   "execution_count": 19,
   "metadata": {},
   "outputs": [
    {
     "name": "stdout",
     "output_type": "stream",
     "text": [
      "最优超参数组合： {'C': 201, 'gamma': 0.1, 'kernel': 'rbf'}\n"
     ]
    }
   ],
   "source": [
    "# 初步最优寻参\n",
    "from sklearn.model_selection import GridSearchCV\n",
    "from sklearn.svm import SVC\n",
    "parameters = {  'kernel':['linear','rbf','poly','sigmoid'], \n",
    "                'C':[i for i in range(1,5000,100)],\n",
    "                'gamma':[0.1,0.01,0.001,0.0001,0.00001]}\n",
    "svc = SVC()\n",
    "grid = GridSearchCV(svc, parameters, cv=10) \n",
    "grid.fit(X_train_scaled, y_train)\n",
    "print(\"最优超参数组合：\",grid.best_params_)"
   ]
  },
  {
   "cell_type": "code",
   "execution_count": 21,
   "metadata": {},
   "outputs": [
    {
     "name": "stdout",
     "output_type": "stream",
     "text": [
      "最优超参数组合： {'C': 172, 'gamma': 0.1, 'kernel': 'rbf'}\n"
     ]
    }
   ],
   "source": [
    "# C粒度更细的最优寻参\n",
    "from sklearn.model_selection import GridSearchCV\n",
    "from sklearn.svm import SVC\n",
    "import numpy as np\n",
    "parameters = {'kernel':['linear','rbf','poly','sigmoid'], 'C':[i for i in range(100,300)],'gamma':[0.1]}\n",
    "svc = SVC()\n",
    "grid = GridSearchCV(svc, parameters, cv=10) \n",
    "grid.fit(X_train_scaled, y_train)\n",
    "print(\"最优超参数组合：\",grid.best_params_)"
   ]
  },
  {
   "cell_type": "code",
   "execution_count": 18,
   "metadata": {},
   "outputs": [
    {
     "name": "stdout",
     "output_type": "stream",
     "text": [
      "Train...\n",
      "Train finished\n",
      "调参后已缩放训练集上准确度:0.9859\n",
      "调参后已缩放测试集上准确度:0.9720\n"
     ]
    }
   ],
   "source": [
    "# 选用最优参数进行训练\n",
    "print(\"Train...\")\n",
    "svm=SVC(kernel='rbf',C=172,gamma=0.1)\n",
    "svm.fit(X_train_scaled,y_train) \n",
    "print('Train finished')\n",
    "print(\"调参后已缩放训练集上准确度:{:.4f}\".format(svm.score(X_train_scaled,y_train)))\n",
    "print(\"调参后已缩放测试集上准确度:{:.4f}\".format(svm.score(X_test_scaled,y_test)))"
   ]
  },
  {
   "cell_type": "code",
   "execution_count": 22,
   "metadata": {},
   "outputs": [
    {
     "name": "stdout",
     "output_type": "stream",
     "text": [
      "Predict...\n",
      "accuracy:  0.972027972027972\n",
      "分类正确的： [51, 88]\n",
      "总的测试标签： [53, 90]\n",
      "良性类别的预测准确度:96.226%\n",
      "良性类别的预测准确度:97.778%\n"
     ]
    },
    {
     "data": {
      "image/png": "[encoded data removed]",
      "text/plain": [
       "<Figure size 432x288 with 1 Axes>"
      ]
     },
     "metadata": {
      "needs_background": "light"
     },
     "output_type": "display_data"
    }
   ],
   "source": [
    "# 预测\n",
    "print(\"Predict...\")\n",
    "prediction = svm.predict(X_test_scaled)\n",
    "# 评估\n",
    "%matplotlib inline\n",
    "import matplotlib.pyplot as plt\n",
    "classes = cancer.feature_names\n",
    "print(\"accuracy: \", accuracy_score(prediction, y_test))\n",
    "accurate=[0]*2\n",
    "sumall=[0]*2\n",
    "i=0\n",
    "while i<len(y_test):\n",
    "    sumall[y_test[i]]+=1\n",
    "    if prediction[i]==y_test[i]:\n",
    "        accurate[y_test[i]]+=1\n",
    "    i+=1\n",
    "print(\"分类正确的：\",accurate)\n",
    "print(\"总的测试标签：\",sumall)\n",
    "svm_accuary_list = [accurate[i]/sumall[i] for i in range(2)]\n",
    "\n",
    "plt.bar(['good','bad'],svm_accuary_list)\n",
    "print('良性类别的预测准确度:{:.3f}%'.format(svm_accuary_list[0]*100))\n",
    "print('良性类别的预测准确度:{:.3f}%'.format(svm_accuary_list[1]*100))"
   ]
  },
  {
   "cell_type": "code",
   "execution_count": null,
   "metadata": {},
   "outputs": [],
   "source": []
  }
 ],
 "metadata": {
  "interpreter": {
   "hash": "b09ec625f77bf4fd762565a912b97636504ad6ec901eb2d0f4cf5a7de23e1ee5"
  },
  "kernelspec": {
   "display_name": "Python 3.8.5 ('base')",
   "language": "python",
   "name": "python3"
  },
  "language_info": {
   "codemirror_mode": {
    "name": "ipython",
    "version": 3
   },
   "file_extension": ".py",
   "mimetype": "text/x-python",
   "name": "python",
   "nbconvert_exporter": "python",
   "pygments_lexer": "ipython3",
   "version": "3.8.5"
  },
  "orig_nbformat": 4
 },
 "nbformat": 4,
 "nbformat_minor": 2
}
